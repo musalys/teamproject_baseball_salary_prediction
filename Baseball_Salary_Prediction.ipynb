{
 "cells": [
  {
   "cell_type": "markdown",
   "metadata": {},
   "source": [
    "# Baseball hitter's Salary Prediction\n",
    "### Team 4 : Juna Lim,  Yoon Suk Lee, Gi Wook Lee\n",
    "---\n",
    "![Baseball](./Baseball_1.jpg )\n",
    "___"
   ]
  },
  {
   "cell_type": "markdown",
   "metadata": {},
   "source": [
    "## Why\n",
    "---\n",
    "![Baseball](./Ryu.jpg )\n",
    "___\n",
    "\n",
    " - 류현진, KBO에서의 마지막 리그, 2012년 한화에서의 연봉은 4억 3천만원\n",
    "   (Korean Baseball Player Hyun-Jin Ryu's, the last season's salary in Korean League, was 430 million won)\n",
    " - 스포츠에서는 어떻게 연봉이 책정될까?\n",
    "   (How the salary of baseball player would be set?)\n",
    " - 정말 능력 위주로 연봉이 책정될까?\n",
    "   (Is that Really set based on seasonal stats of baseball player?)"
   ]
  },
  {
   "cell_type": "markdown",
   "metadata": {},
   "source": [
    "## Goal\n",
    "\n",
    " > **Feature** 야구 통계 사이트 statiz에 기재되어 있는 타자의 데이터를 기반으로(Based on annual hitter's statistics in statiz.co.kr)\n",
    " \n",
    " > **Target**  내년 연봉을 예측( predict a next season's annual salary)\n"
   ]
  },
  {
   "cell_type": "markdown",
   "metadata": {},
   "source": [
    "## Preparation\n",
    " > **Data collection**\n",
    "  - statiz 웹사이트에서 타자의 연봉(Y) 및 기록(X)를 크롤링(Crawled hitter's basic stats & salary information in statiz's website)\n",
    "  \n",
    " > **Analysis Method**\n",
    "  - Regression\n",
    "   - 가중평균을 이용한 회귀분석(Regression by weighted average method)\n",
    "   - PCA를 이용한 주성분 회귀분석(Principal component regression analysis by PCA)\n",
    "---"
   ]
  },
  {
   "cell_type": "markdown",
   "metadata": {},
   "source": [
    "## Task Plan\n",
    "\n",
    "### 데이터수집 > 전처리 > 모델 선택 > 계수추정 > 평가 > 개선 > 최종 성능 평가\n",
    "### Data Gathering > Preprocessing > model selection & tunning > Validation > Improvement > Final Performance Test\n"
   ]
  },
  {
   "cell_type": "markdown",
   "metadata": {},
   "source": [
    "\n",
    "#### 1. 데이터(Data)\n",
    " - 데이터는 야구 선수 중 타자만을 대상으로 하였으며, 100타석 이상을 기준으로 데이터를 크롤링함.\n",
    " - Selected hitter's stats only, crawled player's stats whose annual batting attendances are greater than 100\n",
    " - 데이터는 **Real number**로 이루어져 있음.\n",
    " - All data is real number\n",
    " - 예) 타율 : 0.313, 타석 : 525, 연봉 2700 (단위 : 만원)\n",
    " - 데이터의 유효숫자는 최대 소수점 6자리로 하였으며, 7번째부터는 반올림으로 계산함. "
   ]
  },
  {
   "cell_type": "markdown",
   "metadata": {},
   "source": [
    "| X | Description | C/R | Class Label | Contraint |\n",
    "| :---: | :--- | :---: | :---: | :---: |\n",
    "| X0 | 타석, 타자가 타석에 선 수 | R | TASUK | X1>=0\n",
    "| X1 | 타수, 타석 - 볼넷 - 데드볼 - 루타 - 희생타 | R |TASU | X1>=0\n",
    "| X2 | 득점, 타자가 홈을 밟은 횟수 | R | DEUKJUM | X1>=0\n",
    "| X3 | 안타, 아웃되지 않은 모든 진루타 | R | ANTA | X1>=0\n",
    "| X4 | 2루타, 타격시 2루까지 가는 경우 | R | 2TA | X5>=0\n",
    "| X5 | 3루타, 타격시 3루까지 가는 경우 | R | 3TA | X6>=0\n",
    "| X6 | 홈런, 타격시 홈까지 가는 경우 | R | HOMERUN | X7>=0\n",
    "| X7 | 루타, 단타 + 2루타\\*2 + 3루타\\*3 + 홈런\\*4 | R | ALLTA | X8>=0\n",
    "| X8 | 타점, 타자가 플레이해 주자가 득점 | R | TAJUM | X9 >=0\n",
    "| X9 | 도루, 주자가 다음 베이스로 가는 경우 | R | DORU | X10 >=0\n",
    "| X10 | 도루실패 | R | DOSIL | X11 >=0\n",
    "| X11 | 희생타, 희생번트 + 희생플라이 | R | HEUITA | X12 >= 0\n",
    "| X12 | 볼넷 | R | BALLNET | X13 >= 0\n",
    "| X13 | 사사구, 몸에 맞은 공 | R | SAGU | X14 >= 0\n",
    "| X14 | 고의사구, 상대 투수가 고의적으로 볼넷 | R | GOSA | X15 >= 0\n",
    "| X15 | 삼진, 스트라이크 3번으로 아웃 | R | SAMJIN | X16 >= 0\n",
    "| X16 | 병살, 한번의 타격으로 2아웃 되는 경우 | R | BYUNGSAL | X17>=0\n",
    "| X17 | 타율, 한 게임 동안 친 안타의 평균 | R | TAYUL | X19>=0\n",
    "| X18 | 출루율, 타자가 베이스로 나가는 평균율 | R | CHULRU | X20>=0\n",
    "| X19 | 장타율, 타격시 멀리 가는 평균율 | R | JANGTA | X21>=0\n",
    "| X20 | 경력, 프로야구 경력 | R | CAREER | X22>=0\n",
    "| **Y** | **연봉** | R | **SALARY** | Y>=0\n"
   ]
  },
  {
   "cell_type": "code",
   "execution_count": 4,
   "metadata": {
    "collapsed": true
   },
   "outputs": [],
   "source": [
    "import numpy as np\n",
    "import pandas as pd\n",
    "import statsmodels.api as sm\n",
    "import statsmodels.formula.api as smf\n",
    "from sklearn.preprocessing import normalize\n",
    "from sklearn.preprocessing import scale, robust_scale, minmax_scale, maxabs_scale\n",
    "from sklearn.decomposition import PCA\n",
    "import matplotlib as mpl\n",
    "import matplotlib.pyplot as plt\n",
    "import seaborn as sns"
   ]
  },
  {
   "cell_type": "code",
   "execution_count": 5,
   "metadata": {
    "collapsed": false,
    "scrolled": true
   },
   "outputs": [],
   "source": [
    "#X 및 Y list\n",
    "k = 'TASUK,TASU,DEUKJUM,ANTA,2TA,3TA,HOMERUN,ALLTA,TAJUM,DORU,DOSIL,BALLNET,SAGU,GOSA,SAMJIN,BYUNGSAL,HEUITA,HEUIBI,TAYUL,CHULRU,JANGTA,CAREER,SALARY'\n",
    "a = list(k.split(','))\n",
    "\n",
    "#2015년 타자 데이터\n",
    "df1 = pd.read_csv('salary_prediction_taja_add_career.csv')\n",
    "\n",
    "df1.head()\n",
    "dfX = pd.DataFrame(df1, columns = a[:-2])\n",
    "\n",
    "\n",
    "# 희생타와 희생번트 병합 \n",
    "dfX['HEUITA'] += dfX['HEUIBI']\n",
    "del dfX['HEUIBI']\n",
    "df_C = pd.DataFrame(df1, columns = ['CAREER'])\n",
    "dfY = pd.DataFrame(df1, columns = ['SALARY'])"
   ]
  },
  {
   "cell_type": "markdown",
   "metadata": {},
   "source": [
    "### 데이터 전처리\n",
    " - Scikit-Learn preprocessing패키지의 정규화(normalize) 사용"
   ]
  },
  {
   "cell_type": "code",
   "execution_count": 6,
   "metadata": {
    "collapsed": false
   },
   "outputs": [
    {
     "name": "stderr",
     "output_type": "stream",
     "text": [
      "/usr/local/lib/python2.7/site-packages/sklearn/utils/validation.py:386: DeprecationWarning: Passing 1d arrays as data is deprecated in 0.17 and willraise ValueError in 0.19. Reshape your data either using X.reshape(-1, 1) if your data has a single feature or X.reshape(1, -1) if it contains a single sample.\n",
      "  DeprecationWarning)\n",
      "/usr/local/lib/python2.7/site-packages/sklearn/utils/validation.py:420: DataConversionWarning: Data with input dtype int64 was converted to float64 by the normalize function.\n",
      "  warnings.warn(msg, DataConversionWarning)\n",
      "/usr/local/lib/python2.7/site-packages/sklearn/utils/validation.py:386: DeprecationWarning: Passing 1d arrays as data is deprecated in 0.17 and willraise ValueError in 0.19. Reshape your data either using X.reshape(-1, 1) if your data has a single feature or X.reshape(1, -1) if it contains a single sample.\n",
      "  DeprecationWarning)\n",
      "/usr/local/lib/python2.7/site-packages/sklearn/utils/validation.py:420: DataConversionWarning: Data with input dtype int64 was converted to float64 by the normalize function.\n",
      "  warnings.warn(msg, DataConversionWarning)\n",
      "/usr/local/lib/python2.7/site-packages/sklearn/utils/validation.py:386: DeprecationWarning: Passing 1d arrays as data is deprecated in 0.17 and willraise ValueError in 0.19. Reshape your data either using X.reshape(-1, 1) if your data has a single feature or X.reshape(1, -1) if it contains a single sample.\n",
      "  DeprecationWarning)\n",
      "/usr/local/lib/python2.7/site-packages/sklearn/utils/validation.py:420: DataConversionWarning: Data with input dtype int64 was converted to float64 by the normalize function.\n",
      "  warnings.warn(msg, DataConversionWarning)\n",
      "/usr/local/lib/python2.7/site-packages/sklearn/utils/validation.py:386: DeprecationWarning: Passing 1d arrays as data is deprecated in 0.17 and willraise ValueError in 0.19. Reshape your data either using X.reshape(-1, 1) if your data has a single feature or X.reshape(1, -1) if it contains a single sample.\n",
      "  DeprecationWarning)\n",
      "/usr/local/lib/python2.7/site-packages/sklearn/utils/validation.py:420: DataConversionWarning: Data with input dtype int64 was converted to float64 by the normalize function.\n",
      "  warnings.warn(msg, DataConversionWarning)\n",
      "/usr/local/lib/python2.7/site-packages/sklearn/utils/validation.py:386: DeprecationWarning: Passing 1d arrays as data is deprecated in 0.17 and willraise ValueError in 0.19. Reshape your data either using X.reshape(-1, 1) if your data has a single feature or X.reshape(1, -1) if it contains a single sample.\n",
      "  DeprecationWarning)\n",
      "/usr/local/lib/python2.7/site-packages/sklearn/utils/validation.py:420: DataConversionWarning: Data with input dtype int64 was converted to float64 by the normalize function.\n",
      "  warnings.warn(msg, DataConversionWarning)\n",
      "/usr/local/lib/python2.7/site-packages/sklearn/utils/validation.py:386: DeprecationWarning: Passing 1d arrays as data is deprecated in 0.17 and willraise ValueError in 0.19. Reshape your data either using X.reshape(-1, 1) if your data has a single feature or X.reshape(1, -1) if it contains a single sample.\n",
      "  DeprecationWarning)\n",
      "/usr/local/lib/python2.7/site-packages/sklearn/utils/validation.py:420: DataConversionWarning: Data with input dtype int64 was converted to float64 by the normalize function.\n",
      "  warnings.warn(msg, DataConversionWarning)\n",
      "/usr/local/lib/python2.7/site-packages/sklearn/utils/validation.py:386: DeprecationWarning: Passing 1d arrays as data is deprecated in 0.17 and willraise ValueError in 0.19. Reshape your data either using X.reshape(-1, 1) if your data has a single feature or X.reshape(1, -1) if it contains a single sample.\n",
      "  DeprecationWarning)\n",
      "/usr/local/lib/python2.7/site-packages/sklearn/utils/validation.py:420: DataConversionWarning: Data with input dtype int64 was converted to float64 by the normalize function.\n",
      "  warnings.warn(msg, DataConversionWarning)\n",
      "/usr/local/lib/python2.7/site-packages/sklearn/utils/validation.py:386: DeprecationWarning: Passing 1d arrays as data is deprecated in 0.17 and willraise ValueError in 0.19. Reshape your data either using X.reshape(-1, 1) if your data has a single feature or X.reshape(1, -1) if it contains a single sample.\n",
      "  DeprecationWarning)\n",
      "/usr/local/lib/python2.7/site-packages/sklearn/utils/validation.py:420: DataConversionWarning: Data with input dtype int64 was converted to float64 by the normalize function.\n",
      "  warnings.warn(msg, DataConversionWarning)\n",
      "/usr/local/lib/python2.7/site-packages/sklearn/utils/validation.py:386: DeprecationWarning: Passing 1d arrays as data is deprecated in 0.17 and willraise ValueError in 0.19. Reshape your data either using X.reshape(-1, 1) if your data has a single feature or X.reshape(1, -1) if it contains a single sample.\n",
      "  DeprecationWarning)\n",
      "/usr/local/lib/python2.7/site-packages/sklearn/utils/validation.py:420: DataConversionWarning: Data with input dtype int64 was converted to float64 by the normalize function.\n",
      "  warnings.warn(msg, DataConversionWarning)\n",
      "/usr/local/lib/python2.7/site-packages/sklearn/utils/validation.py:386: DeprecationWarning: Passing 1d arrays as data is deprecated in 0.17 and willraise ValueError in 0.19. Reshape your data either using X.reshape(-1, 1) if your data has a single feature or X.reshape(1, -1) if it contains a single sample.\n",
      "  DeprecationWarning)\n",
      "/usr/local/lib/python2.7/site-packages/sklearn/utils/validation.py:420: DataConversionWarning: Data with input dtype int64 was converted to float64 by the normalize function.\n",
      "  warnings.warn(msg, DataConversionWarning)\n",
      "/usr/local/lib/python2.7/site-packages/sklearn/utils/validation.py:386: DeprecationWarning: Passing 1d arrays as data is deprecated in 0.17 and willraise ValueError in 0.19. Reshape your data either using X.reshape(-1, 1) if your data has a single feature or X.reshape(1, -1) if it contains a single sample.\n",
      "  DeprecationWarning)\n",
      "/usr/local/lib/python2.7/site-packages/sklearn/utils/validation.py:420: DataConversionWarning: Data with input dtype int64 was converted to float64 by the normalize function.\n",
      "  warnings.warn(msg, DataConversionWarning)\n",
      "/usr/local/lib/python2.7/site-packages/sklearn/utils/validation.py:386: DeprecationWarning: Passing 1d arrays as data is deprecated in 0.17 and willraise ValueError in 0.19. Reshape your data either using X.reshape(-1, 1) if your data has a single feature or X.reshape(1, -1) if it contains a single sample.\n",
      "  DeprecationWarning)\n",
      "/usr/local/lib/python2.7/site-packages/sklearn/utils/validation.py:420: DataConversionWarning: Data with input dtype int64 was converted to float64 by the normalize function.\n",
      "  warnings.warn(msg, DataConversionWarning)\n",
      "/usr/local/lib/python2.7/site-packages/sklearn/utils/validation.py:386: DeprecationWarning: Passing 1d arrays as data is deprecated in 0.17 and willraise ValueError in 0.19. Reshape your data either using X.reshape(-1, 1) if your data has a single feature or X.reshape(1, -1) if it contains a single sample.\n",
      "  DeprecationWarning)\n",
      "/usr/local/lib/python2.7/site-packages/sklearn/utils/validation.py:420: DataConversionWarning: Data with input dtype int64 was converted to float64 by the normalize function.\n",
      "  warnings.warn(msg, DataConversionWarning)\n",
      "/usr/local/lib/python2.7/site-packages/sklearn/utils/validation.py:386: DeprecationWarning: Passing 1d arrays as data is deprecated in 0.17 and willraise ValueError in 0.19. Reshape your data either using X.reshape(-1, 1) if your data has a single feature or X.reshape(1, -1) if it contains a single sample.\n",
      "  DeprecationWarning)\n",
      "/usr/local/lib/python2.7/site-packages/sklearn/utils/validation.py:420: DataConversionWarning: Data with input dtype int64 was converted to float64 by the normalize function.\n",
      "  warnings.warn(msg, DataConversionWarning)\n",
      "/usr/local/lib/python2.7/site-packages/sklearn/utils/validation.py:386: DeprecationWarning: Passing 1d arrays as data is deprecated in 0.17 and willraise ValueError in 0.19. Reshape your data either using X.reshape(-1, 1) if your data has a single feature or X.reshape(1, -1) if it contains a single sample.\n",
      "  DeprecationWarning)\n",
      "/usr/local/lib/python2.7/site-packages/sklearn/utils/validation.py:420: DataConversionWarning: Data with input dtype int64 was converted to float64 by the normalize function.\n",
      "  warnings.warn(msg, DataConversionWarning)\n",
      "/usr/local/lib/python2.7/site-packages/sklearn/utils/validation.py:386: DeprecationWarning: Passing 1d arrays as data is deprecated in 0.17 and willraise ValueError in 0.19. Reshape your data either using X.reshape(-1, 1) if your data has a single feature or X.reshape(1, -1) if it contains a single sample.\n",
      "  DeprecationWarning)\n",
      "/usr/local/lib/python2.7/site-packages/sklearn/utils/validation.py:420: DataConversionWarning: Data with input dtype int64 was converted to float64 by the normalize function.\n",
      "  warnings.warn(msg, DataConversionWarning)\n",
      "/usr/local/lib/python2.7/site-packages/sklearn/utils/validation.py:386: DeprecationWarning: Passing 1d arrays as data is deprecated in 0.17 and willraise ValueError in 0.19. Reshape your data either using X.reshape(-1, 1) if your data has a single feature or X.reshape(1, -1) if it contains a single sample.\n",
      "  DeprecationWarning)\n",
      "/usr/local/lib/python2.7/site-packages/sklearn/utils/validation.py:420: DataConversionWarning: Data with input dtype int64 was converted to float64 by the normalize function.\n",
      "  warnings.warn(msg, DataConversionWarning)\n",
      "/usr/local/lib/python2.7/site-packages/sklearn/utils/validation.py:386: DeprecationWarning: Passing 1d arrays as data is deprecated in 0.17 and willraise ValueError in 0.19. Reshape your data either using X.reshape(-1, 1) if your data has a single feature or X.reshape(1, -1) if it contains a single sample.\n",
      "  DeprecationWarning)\n",
      "/usr/local/lib/python2.7/site-packages/sklearn/utils/validation.py:386: DeprecationWarning: Passing 1d arrays as data is deprecated in 0.17 and willraise ValueError in 0.19. Reshape your data either using X.reshape(-1, 1) if your data has a single feature or X.reshape(1, -1) if it contains a single sample.\n",
      "  DeprecationWarning)\n",
      "/usr/local/lib/python2.7/site-packages/sklearn/utils/validation.py:386: DeprecationWarning: Passing 1d arrays as data is deprecated in 0.17 and willraise ValueError in 0.19. Reshape your data either using X.reshape(-1, 1) if your data has a single feature or X.reshape(1, -1) if it contains a single sample.\n",
      "  DeprecationWarning)\n"
     ]
    },
    {
     "data": {
      "text/html": [
       "<div>\n",
       "<table border=\"1\" class=\"dataframe\">\n",
       "  <thead>\n",
       "    <tr style=\"text-align: right;\">\n",
       "      <th></th>\n",
       "      <th>TASUK</th>\n",
       "      <th>TASU</th>\n",
       "      <th>DEUKJUM</th>\n",
       "      <th>ANTA</th>\n",
       "      <th>2TA</th>\n",
       "      <th>3TA</th>\n",
       "      <th>HOMERUN</th>\n",
       "      <th>ALLTA</th>\n",
       "      <th>TAJUM</th>\n",
       "      <th>DORU</th>\n",
       "      <th>DOSIL</th>\n",
       "      <th>BALLNET</th>\n",
       "      <th>SAGU</th>\n",
       "      <th>GOSA</th>\n",
       "      <th>SAMJIN</th>\n",
       "      <th>BYUNGSAL</th>\n",
       "      <th>HEUITA</th>\n",
       "      <th>TAYUL</th>\n",
       "      <th>CHULRU</th>\n",
       "      <th>JANGTA</th>\n",
       "    </tr>\n",
       "  </thead>\n",
       "  <tbody>\n",
       "    <tr>\n",
       "      <th>0</th>\n",
       "      <td>0.144593</td>\n",
       "      <td>0.132288</td>\n",
       "      <td>0.216451</td>\n",
       "      <td>0.166232</td>\n",
       "      <td>0.204269</td>\n",
       "      <td>0.209795</td>\n",
       "      <td>0.325714</td>\n",
       "      <td>0.218952</td>\n",
       "      <td>0.233605</td>\n",
       "      <td>0.278356</td>\n",
       "      <td>0.164226</td>\n",
       "      <td>0.239674</td>\n",
       "      <td>0.177220</td>\n",
       "      <td>0.389885</td>\n",
       "      <td>0.125696</td>\n",
       "      <td>0.076372</td>\n",
       "      <td>0.076886</td>\n",
       "      <td>0.140532</td>\n",
       "      <td>0.144986</td>\n",
       "      <td>0.184098</td>\n",
       "    </tr>\n",
       "    <tr>\n",
       "      <th>1</th>\n",
       "      <td>0.137546</td>\n",
       "      <td>0.139295</td>\n",
       "      <td>0.126541</td>\n",
       "      <td>0.127445</td>\n",
       "      <td>0.199405</td>\n",
       "      <td>0.167836</td>\n",
       "      <td>0.076231</td>\n",
       "      <td>0.129141</td>\n",
       "      <td>0.093442</td>\n",
       "      <td>0.173972</td>\n",
       "      <td>0.205282</td>\n",
       "      <td>0.137289</td>\n",
       "      <td>0.054529</td>\n",
       "      <td>0.035444</td>\n",
       "      <td>0.167134</td>\n",
       "      <td>0.021820</td>\n",
       "      <td>0.065902</td>\n",
       "      <td>0.102540</td>\n",
       "      <td>0.103936</td>\n",
       "      <td>0.103235</td>\n",
       "    </tr>\n",
       "    <tr>\n",
       "      <th>2</th>\n",
       "      <td>0.145322</td>\n",
       "      <td>0.145742</td>\n",
       "      <td>0.171496</td>\n",
       "      <td>0.173620</td>\n",
       "      <td>0.204269</td>\n",
       "      <td>0.041959</td>\n",
       "      <td>0.159392</td>\n",
       "      <td>0.176688</td>\n",
       "      <td>0.193558</td>\n",
       "      <td>0.020877</td>\n",
       "      <td>0.061585</td>\n",
       "      <td>0.155904</td>\n",
       "      <td>0.027265</td>\n",
       "      <td>0.070888</td>\n",
       "      <td>0.098071</td>\n",
       "      <td>0.141833</td>\n",
       "      <td>0.098853</td>\n",
       "      <td>0.133524</td>\n",
       "      <td>0.125480</td>\n",
       "      <td>0.134927</td>\n",
       "    </tr>\n",
       "    <tr>\n",
       "      <th>3</th>\n",
       "      <td>0.135845</td>\n",
       "      <td>0.125562</td>\n",
       "      <td>0.149851</td>\n",
       "      <td>0.132986</td>\n",
       "      <td>0.121589</td>\n",
       "      <td>0.000000</td>\n",
       "      <td>0.180182</td>\n",
       "      <td>0.144990</td>\n",
       "      <td>0.193558</td>\n",
       "      <td>0.020877</td>\n",
       "      <td>0.000000</td>\n",
       "      <td>0.193135</td>\n",
       "      <td>0.259013</td>\n",
       "      <td>0.000000</td>\n",
       "      <td>0.133984</td>\n",
       "      <td>0.141833</td>\n",
       "      <td>0.098853</td>\n",
       "      <td>0.118401</td>\n",
       "      <td>0.128391</td>\n",
       "      <td>0.128403</td>\n",
       "    </tr>\n",
       "    <tr>\n",
       "      <th>4</th>\n",
       "      <td>0.141434</td>\n",
       "      <td>0.143219</td>\n",
       "      <td>0.148186</td>\n",
       "      <td>0.136680</td>\n",
       "      <td>0.170224</td>\n",
       "      <td>0.209795</td>\n",
       "      <td>0.131672</td>\n",
       "      <td>0.146751</td>\n",
       "      <td>0.121808</td>\n",
       "      <td>0.153096</td>\n",
       "      <td>0.082113</td>\n",
       "      <td>0.130308</td>\n",
       "      <td>0.068161</td>\n",
       "      <td>0.070888</td>\n",
       "      <td>0.158847</td>\n",
       "      <td>0.109102</td>\n",
       "      <td>0.109837</td>\n",
       "      <td>0.106966</td>\n",
       "      <td>0.105391</td>\n",
       "      <td>0.113954</td>\n",
       "    </tr>\n",
       "  </tbody>\n",
       "</table>\n",
       "</div>"
      ],
      "text/plain": [
       "      TASUK      TASU   DEUKJUM      ANTA       2TA       3TA   HOMERUN  \\\n",
       "0  0.144593  0.132288  0.216451  0.166232  0.204269  0.209795  0.325714   \n",
       "1  0.137546  0.139295  0.126541  0.127445  0.199405  0.167836  0.076231   \n",
       "2  0.145322  0.145742  0.171496  0.173620  0.204269  0.041959  0.159392   \n",
       "3  0.135845  0.125562  0.149851  0.132986  0.121589  0.000000  0.180182   \n",
       "4  0.141434  0.143219  0.148186  0.136680  0.170224  0.209795  0.131672   \n",
       "\n",
       "      ALLTA     TAJUM      DORU     DOSIL   BALLNET      SAGU      GOSA  \\\n",
       "0  0.218952  0.233605  0.278356  0.164226  0.239674  0.177220  0.389885   \n",
       "1  0.129141  0.093442  0.173972  0.205282  0.137289  0.054529  0.035444   \n",
       "2  0.176688  0.193558  0.020877  0.061585  0.155904  0.027265  0.070888   \n",
       "3  0.144990  0.193558  0.020877  0.000000  0.193135  0.259013  0.000000   \n",
       "4  0.146751  0.121808  0.153096  0.082113  0.130308  0.068161  0.070888   \n",
       "\n",
       "     SAMJIN  BYUNGSAL    HEUITA     TAYUL    CHULRU    JANGTA  \n",
       "0  0.125696  0.076372  0.076886  0.140532  0.144986  0.184098  \n",
       "1  0.167134  0.021820  0.065902  0.102540  0.103936  0.103235  \n",
       "2  0.098071  0.141833  0.098853  0.133524  0.125480  0.134927  \n",
       "3  0.133984  0.141833  0.098853  0.118401  0.128391  0.128403  \n",
       "4  0.158847  0.109102  0.109837  0.106966  0.105391  0.113954  "
      ]
     },
     "execution_count": 6,
     "metadata": {},
     "output_type": "execute_result"
    }
   ],
   "source": [
    "k1 = 'TASUK,TASU,DEUKJUM,ANTA,2TA,3TA,HOMERUN,ALLTA,TAJUM,DORU,DOSIL,BALLNET,SAGU,GOSA,SAMJIN,BYUNGSAL,HEUITA,TAYUL,CHULRU,JANGTA'\n",
    "b = list(k1.split(','))\n",
    "\n",
    "result = []\n",
    "for i in b:\n",
    "    result.append(normalize(dfX[i]).T)\n",
    "\n",
    "#한 선수당 1 column인 data table    \n",
    "db_batter_index = pd.DataFrame(np.hstack(result), columns = b)\n",
    "db_batter_columns = db_batter_index.T\n",
    "db_batter_index.head()"
   ]
  },
  {
   "cell_type": "code",
   "execution_count": 7,
   "metadata": {
    "collapsed": false
   },
   "outputs": [
    {
     "data": {
      "text/html": [
       "<div>\n",
       "<table border=\"1\" class=\"dataframe\">\n",
       "  <thead>\n",
       "    <tr style=\"text-align: right;\">\n",
       "      <th></th>\n",
       "      <th>TASUK</th>\n",
       "      <th>TASU</th>\n",
       "      <th>DEUKJUM</th>\n",
       "      <th>ANTA</th>\n",
       "      <th>2TA</th>\n",
       "      <th>3TA</th>\n",
       "      <th>HOMERUN</th>\n",
       "      <th>ALLTA</th>\n",
       "      <th>TAJUM</th>\n",
       "      <th>DORU</th>\n",
       "      <th>DOSIL</th>\n",
       "      <th>BALLNET</th>\n",
       "      <th>SAGU</th>\n",
       "      <th>GOSA</th>\n",
       "      <th>SAMJIN</th>\n",
       "      <th>BYUNGSAL</th>\n",
       "      <th>HEUITA</th>\n",
       "      <th>TAYUL</th>\n",
       "      <th>CHULRU</th>\n",
       "      <th>JANGTA</th>\n",
       "    </tr>\n",
       "  </thead>\n",
       "  <tbody>\n",
       "    <tr>\n",
       "      <th>TASUK</th>\n",
       "      <td>1.000000</td>\n",
       "      <td>0.994119</td>\n",
       "      <td>0.885191</td>\n",
       "      <td>0.967224</td>\n",
       "      <td>0.835030</td>\n",
       "      <td>0.458631</td>\n",
       "      <td>0.480524</td>\n",
       "      <td>0.908842</td>\n",
       "      <td>0.749047</td>\n",
       "      <td>0.446213</td>\n",
       "      <td>0.524139</td>\n",
       "      <td>0.748908</td>\n",
       "      <td>0.364117</td>\n",
       "      <td>0.390433</td>\n",
       "      <td>0.667262</td>\n",
       "      <td>0.602686</td>\n",
       "      <td>0.465027</td>\n",
       "      <td>0.501351</td>\n",
       "      <td>0.411021</td>\n",
       "      <td>0.281078</td>\n",
       "    </tr>\n",
       "    <tr>\n",
       "      <th>TASU</th>\n",
       "      <td>0.994119</td>\n",
       "      <td>1.000000</td>\n",
       "      <td>0.877536</td>\n",
       "      <td>0.970647</td>\n",
       "      <td>0.836924</td>\n",
       "      <td>0.461281</td>\n",
       "      <td>0.453554</td>\n",
       "      <td>0.900706</td>\n",
       "      <td>0.731281</td>\n",
       "      <td>0.449758</td>\n",
       "      <td>0.539666</td>\n",
       "      <td>0.680318</td>\n",
       "      <td>0.335967</td>\n",
       "      <td>0.351069</td>\n",
       "      <td>0.660568</td>\n",
       "      <td>0.595233</td>\n",
       "      <td>0.462446</td>\n",
       "      <td>0.499988</td>\n",
       "      <td>0.352268</td>\n",
       "      <td>0.253717</td>\n",
       "    </tr>\n",
       "    <tr>\n",
       "      <th>DEUKJUM</th>\n",
       "      <td>0.885191</td>\n",
       "      <td>0.877536</td>\n",
       "      <td>1.000000</td>\n",
       "      <td>0.913815</td>\n",
       "      <td>0.854583</td>\n",
       "      <td>0.599118</td>\n",
       "      <td>0.483254</td>\n",
       "      <td>0.887466</td>\n",
       "      <td>0.683259</td>\n",
       "      <td>0.600686</td>\n",
       "      <td>0.622123</td>\n",
       "      <td>0.697994</td>\n",
       "      <td>0.334309</td>\n",
       "      <td>0.365996</td>\n",
       "      <td>0.590731</td>\n",
       "      <td>0.399756</td>\n",
       "      <td>0.320801</td>\n",
       "      <td>0.605706</td>\n",
       "      <td>0.532118</td>\n",
       "      <td>0.423060</td>\n",
       "    </tr>\n",
       "    <tr>\n",
       "      <th>ANTA</th>\n",
       "      <td>0.967224</td>\n",
       "      <td>0.970647</td>\n",
       "      <td>0.913815</td>\n",
       "      <td>1.000000</td>\n",
       "      <td>0.861973</td>\n",
       "      <td>0.447916</td>\n",
       "      <td>0.495649</td>\n",
       "      <td>0.937619</td>\n",
       "      <td>0.769909</td>\n",
       "      <td>0.438309</td>\n",
       "      <td>0.518970</td>\n",
       "      <td>0.691171</td>\n",
       "      <td>0.312810</td>\n",
       "      <td>0.417304</td>\n",
       "      <td>0.580029</td>\n",
       "      <td>0.573772</td>\n",
       "      <td>0.401995</td>\n",
       "      <td>0.675693</td>\n",
       "      <td>0.511450</td>\n",
       "      <td>0.385033</td>\n",
       "    </tr>\n",
       "    <tr>\n",
       "      <th>2TA</th>\n",
       "      <td>0.835030</td>\n",
       "      <td>0.836924</td>\n",
       "      <td>0.854583</td>\n",
       "      <td>0.861973</td>\n",
       "      <td>1.000000</td>\n",
       "      <td>0.390232</td>\n",
       "      <td>0.536768</td>\n",
       "      <td>0.884852</td>\n",
       "      <td>0.733055</td>\n",
       "      <td>0.391536</td>\n",
       "      <td>0.494273</td>\n",
       "      <td>0.619931</td>\n",
       "      <td>0.272567</td>\n",
       "      <td>0.400995</td>\n",
       "      <td>0.549139</td>\n",
       "      <td>0.439291</td>\n",
       "      <td>0.281045</td>\n",
       "      <td>0.573360</td>\n",
       "      <td>0.457486</td>\n",
       "      <td>0.478281</td>\n",
       "    </tr>\n",
       "  </tbody>\n",
       "</table>\n",
       "</div>"
      ],
      "text/plain": [
       "            TASUK      TASU   DEUKJUM      ANTA       2TA       3TA   HOMERUN  \\\n",
       "TASUK    1.000000  0.994119  0.885191  0.967224  0.835030  0.458631  0.480524   \n",
       "TASU     0.994119  1.000000  0.877536  0.970647  0.836924  0.461281  0.453554   \n",
       "DEUKJUM  0.885191  0.877536  1.000000  0.913815  0.854583  0.599118  0.483254   \n",
       "ANTA     0.967224  0.970647  0.913815  1.000000  0.861973  0.447916  0.495649   \n",
       "2TA      0.835030  0.836924  0.854583  0.861973  1.000000  0.390232  0.536768   \n",
       "\n",
       "            ALLTA     TAJUM      DORU     DOSIL   BALLNET      SAGU      GOSA  \\\n",
       "TASUK    0.908842  0.749047  0.446213  0.524139  0.748908  0.364117  0.390433   \n",
       "TASU     0.900706  0.731281  0.449758  0.539666  0.680318  0.335967  0.351069   \n",
       "DEUKJUM  0.887466  0.683259  0.600686  0.622123  0.697994  0.334309  0.365996   \n",
       "ANTA     0.937619  0.769909  0.438309  0.518970  0.691171  0.312810  0.417304   \n",
       "2TA      0.884852  0.733055  0.391536  0.494273  0.619931  0.272567  0.400995   \n",
       "\n",
       "           SAMJIN  BYUNGSAL    HEUITA     TAYUL    CHULRU    JANGTA  \n",
       "TASUK    0.667262  0.602686  0.465027  0.501351  0.411021  0.281078  \n",
       "TASU     0.660568  0.595233  0.462446  0.499988  0.352268  0.253717  \n",
       "DEUKJUM  0.590731  0.399756  0.320801  0.605706  0.532118  0.423060  \n",
       "ANTA     0.580029  0.573772  0.401995  0.675693  0.511450  0.385033  \n",
       "2TA      0.549139  0.439291  0.281045  0.573360  0.457486  0.478281  "
      ]
     },
     "execution_count": 7,
     "metadata": {},
     "output_type": "execute_result"
    }
   ],
   "source": [
    "# 상관계수\n",
    "corr_data = pd.DataFrame.corr(db_batter_index)\n",
    "corr_data.head()"
   ]
  },
  {
   "cell_type": "code",
   "execution_count": 8,
   "metadata": {
    "collapsed": false
   },
   "outputs": [
    {
     "data": {
      "image/png": "[encoded data removed]",
      "text/plain": [
       "<matplotlib.figure.Figure at 0x10b2800d0>"
      ]
     },
     "metadata": {},
     "output_type": "display_data"
    }
   ],
   "source": [
    "import seaborn as sns\n",
    "sns.heatmap(corr_data, annot=False, linewidths=1)\n",
    "plt.show()\n"
   ]
  },
  {
   "cell_type": "markdown",
   "metadata": {},
   "source": [
    "## 가중평균을 이용한 회귀분석"
   ]
  },
  {
   "cell_type": "markdown",
   "metadata": {},
   "source": [
    "### 상관계수 그룹화\n",
    "\n",
    "#### 위의 Heatmap에서 상관계수가 높은 X 변수들끼리 그룹화한후 가중평균"
   ]
  },
  {
   "cell_type": "code",
   "execution_count": 9,
   "metadata": {
    "collapsed": true
   },
   "outputs": [],
   "source": [
    "group1 = (db_batter_index['TASUK'] + db_batter_index['TASU'] + db_batter_index['DEUKJUM'] + db_batter_index['ANTA'] \\\n",
    "           + db_batter_index['2TA'] + db_batter_index['HOMERUN'] + db_batter_index['ALLTA'] + db_batter_index['TAJUM'] \\\n",
    "           + db_batter_index['BALLNET'] + db_batter_index['SAMJIN'] + db_batter_index['BYUNGSAL'] + db_batter_index['HEUITA'] \\\n",
    "           + db_batter_index['TAYUL'] + db_batter_index['CHULRU'] + db_batter_index['JANGTA'])/15\n",
    "group2 = (db_batter_index['3TA'] + db_batter_index['SAGU'])/2\n",
    "group3 = (db_batter_index['DORU'] + db_batter_index['GOSA'])/2\n",
    "group4 = db_batter_index['DOSIL']"
   ]
  },
  {
   "cell_type": "code",
   "execution_count": 10,
   "metadata": {
    "collapsed": true
   },
   "outputs": [],
   "source": [
    "#가중평균점수\n",
    "score = pd.concat([group1, group2, group3, group4], axis = 1)\n",
    "score.columns = ['Attack', 'Strength', 'Mobility', 'Missing']"
   ]
  },
  {
   "cell_type": "code",
   "execution_count": 11,
   "metadata": {
    "collapsed": false
   },
   "outputs": [
    {
     "data": {
      "text/html": [
       "<div>\n",
       "<table border=\"1\" class=\"dataframe\">\n",
       "  <thead>\n",
       "    <tr style=\"text-align: right;\">\n",
       "      <th></th>\n",
       "      <th>Attack</th>\n",
       "      <th>Strength</th>\n",
       "      <th>Mobility</th>\n",
       "      <th>Missing</th>\n",
       "      <th>CAREER</th>\n",
       "      <th>SALARY</th>\n",
       "    </tr>\n",
       "  </thead>\n",
       "  <tbody>\n",
       "    <tr>\n",
       "      <th>0</th>\n",
       "      <td>0.175357</td>\n",
       "      <td>0.193507</td>\n",
       "      <td>0.334120</td>\n",
       "      <td>0.164226</td>\n",
       "      <td>0.693147</td>\n",
       "      <td>11.736069</td>\n",
       "    </tr>\n",
       "    <tr>\n",
       "      <th>1</th>\n",
       "      <td>0.115393</td>\n",
       "      <td>0.111183</td>\n",
       "      <td>0.104708</td>\n",
       "      <td>0.205282</td>\n",
       "      <td>1.945910</td>\n",
       "      <td>10.126631</td>\n",
       "    </tr>\n",
       "    <tr>\n",
       "      <th>2</th>\n",
       "      <td>0.150579</td>\n",
       "      <td>0.034612</td>\n",
       "      <td>0.045882</td>\n",
       "      <td>0.061585</td>\n",
       "      <td>2.397895</td>\n",
       "      <td>11.002100</td>\n",
       "    </tr>\n",
       "    <tr>\n",
       "      <th>3</th>\n",
       "      <td>0.141837</td>\n",
       "      <td>0.129507</td>\n",
       "      <td>0.010438</td>\n",
       "      <td>0.000000</td>\n",
       "      <td>2.484907</td>\n",
       "      <td>11.225243</td>\n",
       "    </tr>\n",
       "    <tr>\n",
       "      <th>4</th>\n",
       "      <td>0.131625</td>\n",
       "      <td>0.138978</td>\n",
       "      <td>0.111992</td>\n",
       "      <td>0.082113</td>\n",
       "      <td>0.693147</td>\n",
       "      <td>9.680344</td>\n",
       "    </tr>\n",
       "  </tbody>\n",
       "</table>\n",
       "</div>"
      ],
      "text/plain": [
       "     Attack  Strength  Mobility   Missing    CAREER     SALARY\n",
       "0  0.175357  0.193507  0.334120  0.164226  0.693147  11.736069\n",
       "1  0.115393  0.111183  0.104708  0.205282  1.945910  10.126631\n",
       "2  0.150579  0.034612  0.045882  0.061585  2.397895  11.002100\n",
       "3  0.141837  0.129507  0.010438  0.000000  2.484907  11.225243\n",
       "4  0.131625  0.138978  0.111992  0.082113  0.693147   9.680344"
      ]
     },
     "execution_count": 11,
     "metadata": {},
     "output_type": "execute_result"
    }
   ],
   "source": [
    "df_career = pd.DataFrame(np.log(df_C['CAREER']+1).T, columns = ['CAREER'])\n",
    "salary_prediction_w = pd.concat([score, df_career, np.log(dfY)], axis = 1)\n",
    "salary_prediction_w.head()"
   ]
  },
  {
   "cell_type": "code",
   "execution_count": 12,
   "metadata": {
    "collapsed": false,
    "scrolled": true
   },
   "outputs": [
    {
     "name": "stdout",
     "output_type": "stream",
     "text": [
      "                            OLS Regression Results                            \n",
      "==============================================================================\n",
      "Dep. Variable:                 SALARY   R-squared:                       0.651\n",
      "Model:                            OLS   Adj. R-squared:                  0.633\n",
      "Method:                 Least Squares   F-statistic:                     37.29\n",
      "Date:                Tue, 20 Dec 2016   Prob (F-statistic):           1.41e-17\n",
      "Time:                        13:49:04   Log-Likelihood:                -72.288\n",
      "No. Observations:                  85   AIC:                             154.6\n",
      "Df Residuals:                      80   BIC:                             166.8\n",
      "Df Model:                           4                                         \n",
      "Covariance Type:            nonrobust                                         \n",
      "==================================================================================\n",
      "                     coef    std err          t      P>|t|      [95.0% Conf. Int.]\n",
      "----------------------------------------------------------------------------------\n",
      "Intercept         13.1855      0.706     18.668      0.000        11.780    14.591\n",
      "np.log(Attack)     1.6133      0.236      6.831      0.000         1.143     2.083\n",
      "Mobility           5.1267      1.454      3.527      0.001         2.234     8.020\n",
      "Missing           -3.0035      1.085     -2.767      0.007        -5.164    -0.843\n",
      "CAREER             0.3021      0.086      3.496      0.001         0.130     0.474\n",
      "==============================================================================\n",
      "Omnibus:                        2.923   Durbin-Watson:                   1.779\n",
      "Prob(Omnibus):                  0.232   Jarque-Bera (JB):                2.203\n",
      "Skew:                           0.319   Prob(JB):                        0.332\n",
      "Kurtosis:                       3.464   Cond. No.                         83.0\n",
      "==============================================================================\n",
      "\n",
      "Warnings:\n",
      "[1] Standard Errors assume that the covariance matrix of the errors is correctly specified.\n"
     ]
    }
   ],
   "source": [
    "regression_w = 'SALARY ~ np.log(Attack) + Mobility + Missing + CAREER'\n",
    "model_salary_w = sm.OLS.from_formula(regression_w, data = salary_prediction_w)\n",
    "result_salary_w = model_salary_w.fit()\n",
    "print (result_salary_w.summary())"
   ]
  },
  {
   "cell_type": "markdown",
   "metadata": {},
   "source": [
    "- Cross Validation에서는 평균 r2 score가 0.5를 기록해 다른 모델을 선택"
   ]
  },
  {
   "cell_type": "markdown",
   "metadata": {},
   "source": [
    "## PCA를 이용한 주성분 회귀분석"
   ]
  },
  {
   "cell_type": "code",
   "execution_count": 13,
   "metadata": {
    "collapsed": false,
    "scrolled": true
   },
   "outputs": [
    {
     "data": {
      "image/png": "[encoded data removed]",
      "text/plain": [
       "<matplotlib.figure.Figure at 0x10ff48190>"
      ]
     },
     "metadata": {},
     "output_type": "display_data"
    }
   ],
   "source": [
    "# 주성분 분석을 위한 변수 범위 설정, X feature 3개로 했을 때 분산 설명력 76%\n",
    "\n",
    "pca = PCA().fit(db_batter_index)\n",
    "var = pca.explained_variance_\n",
    "cmap = sns.color_palette()\n",
    "\n",
    "plt.bar(np.arange(1,len(var)+1), var/np.sum(var), align=\"center\", color=cmap[0])\n",
    "plt.step(np.arange(1,len(var)+1), np.cumsum(var)/np.sum(var), where=\"mid\", color=cmap[1])\n",
    "plt.show()"
   ]
  },
  {
   "cell_type": "code",
   "execution_count": 14,
   "metadata": {
    "collapsed": false
   },
   "outputs": [
    {
     "name": "stdout",
     "output_type": "stream",
     "text": [
      "[ 0.41000883  0.26295137  0.08885089  0.06256719  0.04804775]\n",
      "====================\n",
      "Average :0.761811088576\n"
     ]
    }
   ],
   "source": [
    "#PCA setting\n",
    "from sklearn.decomposition import PCA\n",
    "pca = PCA(n_components=5)\n",
    "pca.fit(db_batter_index)\n",
    "#How many PCA do I need to use?\n",
    "k = pca.explained_variance_ratio_\n",
    "sum = k[0] + k[1] + k[2]\n",
    "print k\n",
    "print '='*20\n",
    "\n",
    "print 'Average :' + str(sum)"
   ]
  },
  {
   "cell_type": "code",
   "execution_count": 15,
   "metadata": {
    "collapsed": false,
    "scrolled": true
   },
   "outputs": [
    {
     "name": "stderr",
     "output_type": "stream",
     "text": [
      "/usr/local/lib/python2.7/site-packages/sklearn/utils/validation.py:386: DeprecationWarning: Passing 1d arrays as data is deprecated in 0.17 and willraise ValueError in 0.19. Reshape your data either using X.reshape(-1, 1) if your data has a single feature or X.reshape(1, -1) if it contains a single sample.\n",
      "  DeprecationWarning)\n",
      "/usr/local/lib/python2.7/site-packages/sklearn/utils/validation.py:420: DataConversionWarning: Data with input dtype int64 was converted to float64 by the normalize function.\n",
      "  warnings.warn(msg, DataConversionWarning)\n"
     ]
    }
   ],
   "source": [
    "# PCA 성분 개수\n",
    "\n",
    "X_pca = PCA(n_components=3)\n",
    "X_pca.fit_transform(db_batter_index)\n",
    "\n",
    "# PCA화된 변수 DataFrame 생성\n",
    "dfX_pca = pd.DataFrame(X_pca.fit_transform(db_batter_index))\n",
    "dfX_pca.columns = ['PC1', 'PC2', 'PC3']\n",
    "\n",
    "# PCA + 선수경력 + y값(연봉) 병합 DataFrame생성\n",
    "df_pca_analysis = pd.concat([dfX_pca, pd.DataFrame(normalize(df_C['CAREER']).T), np.log(dfY)], axis = 1)\n",
    "df_pca_analysis.columns = ['PC1', 'PC2', 'PC3', 'CAREER', 'SALARY']\n",
    "#dfX_pca"
   ]
  },
  {
   "cell_type": "code",
   "execution_count": 16,
   "metadata": {
    "collapsed": false,
    "scrolled": true
   },
   "outputs": [
    {
     "name": "stdout",
     "output_type": "stream",
     "text": [
      "                            OLS Regression Results                            \n",
      "==============================================================================\n",
      "Dep. Variable:                 SALARY   R-squared:                       0.681\n",
      "Model:                            OLS   Adj. R-squared:                  0.665\n",
      "Method:                 Least Squares   F-statistic:                     42.64\n",
      "Date:                Tue, 20 Dec 2016   Prob (F-statistic):           4.15e-19\n",
      "Time:                        13:57:06   Log-Likelihood:                -68.492\n",
      "No. Observations:                  85   AIC:                             147.0\n",
      "Df Residuals:                      80   BIC:                             159.2\n",
      "Df Model:                           4                                         \n",
      "Covariance Type:            nonrobust                                         \n",
      "===============================================================================\n",
      "                  coef    std err          t      P>|t|      [95.0% Conf. Int.]\n",
      "-------------------------------------------------------------------------------\n",
      "Intercept       9.4212      0.137     68.812      0.000         9.149     9.694\n",
      "PC1            -3.5961      0.419     -8.587      0.000        -4.430    -2.763\n",
      "PC2             1.8609      0.549      3.388      0.001         0.768     2.954\n",
      "I(PC3 ** 2)    15.8000      9.536      1.657      0.101        -3.178    34.778\n",
      "CAREER          5.9083      1.151      5.132      0.000         3.617     8.199\n",
      "==============================================================================\n",
      "Omnibus:                        9.416   Durbin-Watson:                   1.494\n",
      "Prob(Omnibus):                  0.009   Jarque-Bera (JB):                9.335\n",
      "Skew:                           0.686   Prob(JB):                      0.00940\n",
      "Kurtosis:                       3.867   Cond. No.                         158.\n",
      "==============================================================================\n",
      "\n",
      "Warnings:\n",
      "[1] Standard Errors assume that the covariance matrix of the errors is correctly specified.\n"
     ]
    }
   ],
   "source": [
    "# statsmodels OLS 모델의 R-stle formula를 사용하여 Linear Regression 실행 \n",
    "\n",
    "regression = 'SALARY ~ PC1 + PC2 + I(PC3 ** 2) + CAREER'\n",
    "model_salary = sm.OLS.from_formula(regression, data = df_pca_analysis)\n",
    "result_salary = model_salary.fit()\n",
    "print (result_salary.summary())"
   ]
  },
  {
   "cell_type": "markdown",
   "metadata": {},
   "source": [
    "# 레버리지 및 아웃라이어"
   ]
  },
  {
   "cell_type": "code",
   "execution_count": 17,
   "metadata": {
    "collapsed": false
   },
   "outputs": [
    {
     "data": {
      "image/png": "[encoded data removed]",
      "text/plain": [
       "<matplotlib.figure.Figure at 0x110075710>"
      ]
     },
     "metadata": {},
     "output_type": "display_data"
    }
   ],
   "source": [
    "plt.figure(figsize=(10, 2))\n",
    "plt.stem(result_salary.resid)\n",
    "plt.xlim([-2, len(dfY)+2])\n",
    "plt.show()"
   ]
  },
  {
   "cell_type": "code",
   "execution_count": 18,
   "metadata": {
    "collapsed": false
   },
   "outputs": [
    {
     "data": {
      "image/png": "[encoded data removed]",
      "text/plain": [
       "<matplotlib.figure.Figure at 0x10ff3e550>"
      ]
     },
     "metadata": {},
     "output_type": "display_data"
    }
   ],
   "source": [
    "sm.graphics.plot_leverage_resid2(result_salary)\n",
    "plt.show()"
   ]
  },
  {
   "cell_type": "code",
   "execution_count": 19,
   "metadata": {
    "collapsed": false
   },
   "outputs": [
    {
     "data": {
      "image/png": "[encoded data removed]",
      "text/plain": [
       "<matplotlib.figure.Figure at 0x11005f7d0>"
      ]
     },
     "metadata": {},
     "output_type": "display_data"
    }
   ],
   "source": [
    "# Data index에 따른 Leverage 및 오차 정도 시각화 (X-axis = Leverage, Y-axis = Student-t분포를 따르는 잔차(오차의 크기)\n",
    "\n",
    "sm.graphics.influence_plot(result_salary, plot_alpha=0.3)\n",
    "plt.show()"
   ]
  },
  {
   "cell_type": "code",
   "execution_count": 20,
   "metadata": {
    "collapsed": false
   },
   "outputs": [
    {
     "data": {
      "image/png": "[encoded data removed]",
      "text/plain": [
       "<matplotlib.figure.Figure at 0x10fce5910>"
      ]
     },
     "metadata": {},
     "output_type": "display_data"
    }
   ],
   "source": [
    "# Data index에 따른 outliar 판별 test\n",
    "\n",
    "plt.figure(figsize=(10, 2))\n",
    "plt.stem(result_salary.outlier_test().ix[:, -1])\n",
    "plt.show()"
   ]
  },
  {
   "cell_type": "markdown",
   "metadata": {},
   "source": [
    "## 아웃라이어 제거"
   ]
  },
  {
   "cell_type": "code",
   "execution_count": 21,
   "metadata": {
    "collapsed": false
   },
   "outputs": [],
   "source": [
    "# 위 20, 36번 index의 데이터 제거\n",
    "\n",
    "df_pca_analysis2 = df_pca_analysis.drop(36)\n",
    "df_pca_analysis3 = df_pca_analysis2.drop(20)"
   ]
  },
  {
   "cell_type": "code",
   "execution_count": 22,
   "metadata": {
    "collapsed": false,
    "scrolled": false
   },
   "outputs": [
    {
     "name": "stdout",
     "output_type": "stream",
     "text": [
      "                            OLS Regression Results                            \n",
      "==============================================================================\n",
      "Dep. Variable:                 SALARY   R-squared:                       0.746\n",
      "Model:                            OLS   Adj. R-squared:                  0.733\n",
      "Method:                 Least Squares   F-statistic:                     57.36\n",
      "Date:                Tue, 20 Dec 2016   Prob (F-statistic):           1.76e-22\n",
      "Time:                        13:59:00   Log-Likelihood:                -56.811\n",
      "No. Observations:                  83   AIC:                             123.6\n",
      "Df Residuals:                      78   BIC:                             135.7\n",
      "Df Model:                           4                                         \n",
      "Covariance Type:            nonrobust                                         \n",
      "===============================================================================\n",
      "                  coef    std err          t      P>|t|      [95.0% Conf. Int.]\n",
      "-------------------------------------------------------------------------------\n",
      "Intercept       9.3014      0.124     74.814      0.000         9.054     9.549\n",
      "PC1            -3.6845      0.372     -9.914      0.000        -4.424    -2.945\n",
      "PC2             1.6428      0.489      3.359      0.001         0.669     2.616\n",
      "I(PC3 ** 2)    19.3214      8.485      2.277      0.026         2.429    36.214\n",
      "CAREER          6.5626      1.038      6.321      0.000         4.496     8.629\n",
      "==============================================================================\n",
      "Omnibus:                        1.543   Durbin-Watson:                   1.622\n",
      "Prob(Omnibus):                  0.462   Jarque-Bera (JB):                1.281\n",
      "Skew:                           0.304   Prob(JB):                        0.527\n",
      "Kurtosis:                       2.994   Cond. No.                         157.\n",
      "==============================================================================\n",
      "\n",
      "Warnings:\n",
      "[1] Standard Errors assume that the covariance matrix of the errors is correctly specified.\n"
     ]
    }
   ],
   "source": [
    "#아웃라이어 제거 후 OLS\n",
    "regression = 'SALARY ~ PC1 + PC2 + I(PC3 ** 2) + CAREER'\n",
    "model_salary = sm.OLS.from_formula(regression, data = df_pca_analysis3)\n",
    "result_salary = model_salary.fit()\n",
    "print (result_salary.summary())"
   ]
  },
  {
   "cell_type": "markdown",
   "metadata": {},
   "source": [
    "## Cross Validation\n",
    " - Label K Fold 사용\n",
    " - Cross Validation 하기 전에 outlier를 제거한 index를 Median으로 채움"
   ]
  },
  {
   "cell_type": "code",
   "execution_count": 23,
   "metadata": {
    "collapsed": false
   },
   "outputs": [],
   "source": [
    "# outlier index의 null값 median으로 imputing\n",
    "\n",
    "from sklearn.preprocessing import Imputer\n",
    "imp = Imputer(missing_values='NaN', strategy='median', axis=0)\n",
    "pca_analysis4 = imp.fit_transform(df_pca_analysis3)\n",
    "\n",
    "df_pca_analysis5 = pd.DataFrame(pca_analysis4, columns = ['PC1', 'PC2', 'PC3', 'CAREER', 'SALARY'])"
   ]
  },
  {
   "cell_type": "code",
   "execution_count": 24,
   "metadata": {
    "collapsed": false
   },
   "outputs": [],
   "source": [
    "# cv용 x, y 데이터 분리\n",
    "\n",
    "df_pca_analysis_cv_x = pd.DataFrame(df_pca_analysis5, columns = ['PC1', 'PC2', 'PC3', 'CAREER'])\n",
    "df_pca_analysis_cv_y = pd.DataFrame(df_pca_analysis5, columns = ['SALARY'])\n",
    "X = df_pca_analysis_cv_x.ix[:]"
   ]
  },
  {
   "cell_type": "code",
   "execution_count": 25,
   "metadata": {
    "collapsed": false
   },
   "outputs": [
    {
     "name": "stdout",
     "output_type": "stream",
     "text": [
      "('test  y:\\n', 1     10.126631\n",
      "5     10.645425\n",
      "6     10.308953\n",
      "8      9.852194\n",
      "9      8.987197\n",
      "10    11.982929\n",
      "17    10.819778\n",
      "23    10.819778\n",
      "25     9.952278\n",
      "26    11.407565\n",
      "28    11.082143\n",
      "29    10.341742\n",
      "31    10.308953\n",
      "39     9.952278\n",
      "41    10.819778\n",
      "44    10.819778\n",
      "46     9.392662\n",
      "53    10.819778\n",
      "58    10.819778\n",
      "60     8.779557\n",
      "63    10.308953\n",
      "65     9.392662\n",
      "68     8.999619\n",
      "69     8.987197\n",
      "73     8.517193\n",
      "77     9.392662\n",
      "78     8.517193\n",
      "79    10.126631\n",
      "Name: SALARY, dtype: float64)\n",
      "................................................................................\n",
      "('train y:\\n', 0     11.736069\n",
      "2     11.002100\n",
      "3     11.225243\n",
      "4      9.680344\n",
      "7     10.043249\n",
      "11    11.156251\n",
      "12    11.512925\n",
      "13    11.264464\n",
      "14     9.615805\n",
      "15    11.156251\n",
      "16    11.156251\n",
      "18    11.225243\n",
      "19    11.002100\n",
      "20     9.903488\n",
      "21    10.621327\n",
      "22    10.463103\n",
      "24    11.512925\n",
      "27    10.596635\n",
      "30     9.903488\n",
      "32     9.769956\n",
      "33     9.825526\n",
      "34    10.714418\n",
      "35    10.596635\n",
      "36    10.915088\n",
      "37    10.165852\n",
      "38    11.289782\n",
      "40    11.002100\n",
      "42     9.998798\n",
      "43    11.225243\n",
      "45    10.596635\n",
      "47     9.546813\n",
      "48     8.612503\n",
      "49    10.239960\n",
      "50     9.798127\n",
      "51    10.165852\n",
      "52    10.239960\n",
      "54     8.948976\n",
      "55     9.615805\n",
      "56     9.798127\n",
      "57     8.853665\n",
      "59     9.903488\n",
      "61     9.159047\n",
      "62     8.612503\n",
      "64     8.699515\n",
      "66     9.305651\n",
      "67     8.699515\n",
      "70     8.699515\n",
      "71     8.853665\n",
      "72     8.216088\n",
      "74     8.853665\n",
      "75     9.305651\n",
      "76     8.294050\n",
      "80     8.216088\n",
      "81     9.159047\n",
      "82     8.853665\n",
      "Name: SALARY, dtype: float64)\n",
      "================================================================================\n",
      "('test  y:\\n', 0     11.736069\n",
      "4      9.680344\n",
      "11    11.156251\n",
      "12    11.512925\n",
      "13    11.264464\n",
      "14     9.615805\n",
      "15    11.156251\n",
      "16    11.156251\n",
      "20     9.903488\n",
      "22    10.463103\n",
      "24    11.512925\n",
      "30     9.903488\n",
      "32     9.769956\n",
      "34    10.714418\n",
      "37    10.165852\n",
      "42     9.998798\n",
      "51    10.165852\n",
      "55     9.615805\n",
      "57     8.853665\n",
      "59     9.903488\n",
      "61     9.159047\n",
      "71     8.853665\n",
      "72     8.216088\n",
      "74     8.853665\n",
      "76     8.294050\n",
      "80     8.216088\n",
      "81     9.159047\n",
      "82     8.853665\n",
      "Name: SALARY, dtype: float64)\n",
      "................................................................................\n",
      "('train y:\\n', 1     10.126631\n",
      "2     11.002100\n",
      "3     11.225243\n",
      "5     10.645425\n",
      "6     10.308953\n",
      "7     10.043249\n",
      "8      9.852194\n",
      "9      8.987197\n",
      "10    11.982929\n",
      "17    10.819778\n",
      "18    11.225243\n",
      "19    11.002100\n",
      "21    10.621327\n",
      "23    10.819778\n",
      "25     9.952278\n",
      "26    11.407565\n",
      "27    10.596635\n",
      "28    11.082143\n",
      "29    10.341742\n",
      "31    10.308953\n",
      "33     9.825526\n",
      "35    10.596635\n",
      "36    10.915088\n",
      "38    11.289782\n",
      "39     9.952278\n",
      "40    11.002100\n",
      "41    10.819778\n",
      "43    11.225243\n",
      "44    10.819778\n",
      "45    10.596635\n",
      "46     9.392662\n",
      "47     9.546813\n",
      "48     8.612503\n",
      "49    10.239960\n",
      "50     9.798127\n",
      "52    10.239960\n",
      "53    10.819778\n",
      "54     8.948976\n",
      "56     9.798127\n",
      "58    10.819778\n",
      "60     8.779557\n",
      "62     8.612503\n",
      "63    10.308953\n",
      "64     8.699515\n",
      "65     9.392662\n",
      "66     9.305651\n",
      "67     8.699515\n",
      "68     8.999619\n",
      "69     8.987197\n",
      "70     8.699515\n",
      "73     8.517193\n",
      "75     9.305651\n",
      "77     9.392662\n",
      "78     8.517193\n",
      "79    10.126631\n",
      "Name: SALARY, dtype: float64)\n",
      "================================================================================\n",
      "('test  y:\\n', 2     11.002100\n",
      "3     11.225243\n",
      "7     10.043249\n",
      "18    11.225243\n",
      "19    11.002100\n",
      "21    10.621327\n",
      "27    10.596635\n",
      "33     9.825526\n",
      "35    10.596635\n",
      "36    10.915088\n",
      "38    11.289782\n",
      "40    11.002100\n",
      "43    11.225243\n",
      "45    10.596635\n",
      "47     9.546813\n",
      "48     8.612503\n",
      "49    10.239960\n",
      "50     9.798127\n",
      "52    10.239960\n",
      "54     8.948976\n",
      "56     9.798127\n",
      "62     8.612503\n",
      "64     8.699515\n",
      "66     9.305651\n",
      "67     8.699515\n",
      "70     8.699515\n",
      "75     9.305651\n",
      "Name: SALARY, dtype: float64)\n",
      "................................................................................\n",
      "('train y:\\n', 0     11.736069\n",
      "1     10.126631\n",
      "4      9.680344\n",
      "5     10.645425\n",
      "6     10.308953\n",
      "8      9.852194\n",
      "9      8.987197\n",
      "10    11.982929\n",
      "11    11.156251\n",
      "12    11.512925\n",
      "13    11.264464\n",
      "14     9.615805\n",
      "15    11.156251\n",
      "16    11.156251\n",
      "17    10.819778\n",
      "20     9.903488\n",
      "22    10.463103\n",
      "23    10.819778\n",
      "24    11.512925\n",
      "25     9.952278\n",
      "26    11.407565\n",
      "28    11.082143\n",
      "29    10.341742\n",
      "30     9.903488\n",
      "31    10.308953\n",
      "32     9.769956\n",
      "34    10.714418\n",
      "37    10.165852\n",
      "39     9.952278\n",
      "41    10.819778\n",
      "42     9.998798\n",
      "44    10.819778\n",
      "46     9.392662\n",
      "51    10.165852\n",
      "53    10.819778\n",
      "55     9.615805\n",
      "57     8.853665\n",
      "58    10.819778\n",
      "59     9.903488\n",
      "60     8.779557\n",
      "61     9.159047\n",
      "63    10.308953\n",
      "65     9.392662\n",
      "68     8.999619\n",
      "69     8.987197\n",
      "71     8.853665\n",
      "72     8.216088\n",
      "73     8.517193\n",
      "74     8.853665\n",
      "76     8.294050\n",
      "77     9.392662\n",
      "78     8.517193\n",
      "79    10.126631\n",
      "80     8.216088\n",
      "81     9.159047\n",
      "82     8.853665\n",
      "Name: SALARY, dtype: float64)\n",
      "================================================================================\n"
     ]
    }
   ],
   "source": [
    "# Label-KFold 방법으로 CrossValidation 진행\n",
    "\n",
    "from sklearn.cross_validation import LabelKFold\n",
    "cv = LabelKFold(df_pca_analysis_cv_y['SALARY'], n_folds=3)\n",
    "\n",
    "# train, test index에 따른 y값 확인\n",
    "for train_index, test_index in cv:\n",
    "    print(\"test  y:\\n\", df_pca_analysis_cv_y['SALARY'][test_index])\n",
    "    print(\".\" * 80 )        \n",
    "    print(\"train y:\\n\", df_pca_analysis_cv_y['SALARY'][train_index])\n",
    "    print(\"=\" * 80 )"
   ]
  },
  {
   "cell_type": "code",
   "execution_count": 34,
   "metadata": {
    "collapsed": false
   },
   "outputs": [
    {
     "name": "stdout",
     "output_type": "stream",
     "text": [
      "[ 0.7406085   0.8038      0.58386846]\n"
     ]
    },
    {
     "data": {
      "text/plain": [
       "0.70942565168737903"
      ]
     },
     "execution_count": 34,
     "metadata": {},
     "output_type": "execute_result"
    }
   ],
   "source": [
    "# Scikit-Learn LinearRegression 사용한 선형회귀 및 성능 평가(R2 스코어 사용)\n",
    "\n",
    "from sklearn.linear_model import LinearRegression\n",
    "from sklearn.metrics import mean_squared_error\n",
    "from sklearn.metrics import r2_score\n",
    "\n",
    "model = LinearRegression()\n",
    "\n",
    "scores = np.zeros(3)\n",
    "\n",
    "\n",
    "# cv에 따라 train set, test set 분리 후 cv 진행\n",
    "for i, (train_index, test_index) in enumerate(cv):\n",
    "    X_train = df_pca_analysis_cv_x.ix[train_index]\n",
    "    y_train = df_pca_analysis_cv_y['SALARY'][train_index]\n",
    "    X_test = df_pca_analysis_cv_x.ix[test_index]\n",
    "    y_test = df_pca_analysis_cv_y['SALARY'][test_index]\n",
    "    model.fit(X_train, y_train)\n",
    "    y_pred = model.predict(X_test)\n",
    "    #scores[i] = mean_squared_error(y_test, y_pred)\n",
    "    scores[i] = r2_score(y_test, y_pred)\n",
    "\n",
    "print scores\n",
    "np.mean(scores)"
   ]
  },
  {
   "cell_type": "code",
   "execution_count": 33,
   "metadata": {
    "collapsed": false,
    "scrolled": true
   },
   "outputs": [
    {
     "data": {
      "image/png": "[encoded data removed]",
      "text/plain": [
       "<matplotlib.figure.Figure at 0x10bd69a50>"
      ]
     },
     "metadata": {},
     "output_type": "display_data"
    }
   ],
   "source": [
    "# Test 결과 y_pred와 y 실제값 모형 비교\n",
    "\n",
    "plt.scatter(y_test, y_pred)\n",
    "plt.title('Cross Validation')\n",
    "plt.ylabel('Prediction')\n",
    "plt.xlabel('Target')\n",
    "xx = np.linspace(np.min(y_test) - 1, np.max(y_test) + 1, 1000)\n",
    "yy = np.linspace(np.min(y_pred) - 1, np.max(y_pred) + 1, 1000)\n",
    "plt.plot(xx, yy, 'r-', label='Pred')\n",
    "plt.plot(yy, yy, 'g-', label='Ideal')\n",
    "plt.legend()\n",
    "plt.show()"
   ]
  },
  {
   "cell_type": "markdown",
   "metadata": {},
   "source": [
    "## Conclusion & limitations\n",
    "    - 예측 스코어 70점 결과 도출\n",
    "    1. 전체선수 약 230명 중 타석 100타석 이상인 선수들 105명으로 Data Set이 부족한 영향\n",
    "    2. 선수 경기력 이외에 나이, 포지션 등 영향을 끼치는 변수가 더 있을 것으로 생각됨.\n",
    "    3. 야구선수 중 경력 7년 이후 FA 재계약 후 연봉이 급등하는 경우가 많아 이점이 고려되지 않았음\n",
    "    4. 20번, 36번 Data를 확인하지 않고 Outlier로 판단해 제거 실시 ⇒ 실제 Data를 확인하여 검증 필요"
   ]
  }
 ],
 "metadata": {
  "kernelspec": {
   "display_name": "Python 2",
   "language": "python",
   "name": "python2"
  },
  "language_info": {
   "codemirror_mode": {
    "name": "ipython",
    "version": 2
   },
   "file_extension": ".py",
   "mimetype": "text/x-python",
   "name": "python",
   "nbconvert_exporter": "python",
   "pygments_lexer": "ipython2",
   "version": "2.7.12"
  }
 },
 "nbformat": 4,
 "nbformat_minor": 1
}
